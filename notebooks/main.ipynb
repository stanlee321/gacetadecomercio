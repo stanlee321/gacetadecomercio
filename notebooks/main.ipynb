{
 "cells": [
  {
   "cell_type": "code",
   "execution_count": 1,
   "metadata": {},
   "outputs": [],
   "source": [
    "import requests\n",
    "import json"
   ]
  },
  {
   "cell_type": "code",
   "execution_count": 17,
   "metadata": {},
   "outputs": [],
   "source": [
    "filtro = \"*\"\n",
    "limite = 100000\n",
    "\n",
    "url = f\"https://servicios.seprec.gob.bo/api/empresas/buscarDirectorioEmpresas?filtro={filtro}&pagina=1&limite={limite}\""
   ]
  },
  {
   "cell_type": "code",
   "execution_count": 18,
   "metadata": {},
   "outputs": [
    {
     "name": "stdout",
     "output_type": "stream",
     "text": [
      "{'finalizado': False, 'codigo': 412, 'timestamp': 1664298143, 'mensaje': 'Este campo es requerido', 'datos': {'errores': []}}\n"
     ]
    }
   ],
   "source": [
    "data = requests.get(url).json()\n",
    "\n",
    "print(data)"
   ]
  },
  {
   "cell_type": "code",
   "execution_count": 4,
   "metadata": {},
   "outputs": [],
   "source": [
    "# Save data to JSON\n",
    "with open('data.json', 'w') as outfile:\n",
    "    json.dump(data, outfile)"
   ]
  },
  {
   "cell_type": "code",
   "execution_count": 5,
   "metadata": {},
   "outputs": [],
   "source": [
    "import pandas as pd"
   ]
  },
  {
   "cell_type": "code",
   "execution_count": 15,
   "metadata": {},
   "outputs": [
    {
     "ename": "KeyError",
     "evalue": "'filas'",
     "output_type": "error",
     "traceback": [
      "\u001b[0;31m---------------------------------------------------------------------------\u001b[0m",
      "\u001b[0;31mKeyError\u001b[0m                                  Traceback (most recent call last)",
      "\u001b[1;32m/Users/stanleysalvatierra/Desktop/2022/ULTRA/JOBS/notebooks/main.ipynb Cell 6\u001b[0m in \u001b[0;36m<cell line: 1>\u001b[0;34m()\u001b[0m\n\u001b[0;32m----> <a href='vscode-notebook-cell:/Users/stanleysalvatierra/Desktop/2022/ULTRA/JOBS/notebooks/main.ipynb#W5sZmlsZQ%3D%3D?line=0'>1</a>\u001b[0m df \u001b[39m=\u001b[39m pd\u001b[39m.\u001b[39mDataFrame(data[\u001b[39m'\u001b[39;49m\u001b[39mdatos\u001b[39;49m\u001b[39m'\u001b[39;49m][\u001b[39m\"\u001b[39;49m\u001b[39mfilas\u001b[39;49m\u001b[39m\"\u001b[39;49m])\n\u001b[1;32m      <a href='vscode-notebook-cell:/Users/stanleysalvatierra/Desktop/2022/ULTRA/JOBS/notebooks/main.ipynb#W5sZmlsZQ%3D%3D?line=2'>3</a>\u001b[0m \u001b[39mprint\u001b[39m(df\u001b[39m.\u001b[39mshape)\n\u001b[1;32m      <a href='vscode-notebook-cell:/Users/stanleysalvatierra/Desktop/2022/ULTRA/JOBS/notebooks/main.ipynb#W5sZmlsZQ%3D%3D?line=3'>4</a>\u001b[0m df\u001b[39m.\u001b[39mhead()\n",
      "\u001b[0;31mKeyError\u001b[0m: 'filas'"
     ]
    }
   ],
   "source": [
    "df = pd.DataFrame(data['datos'][\"filas\"])\n",
    "\n",
    "print(df.shape)\n",
    "df.head()\n"
   ]
  },
  {
   "cell_type": "code",
   "execution_count": 5,
   "metadata": {},
   "outputs": [
    {
     "data": {
      "text/plain": [
       "2070.48"
      ]
     },
     "execution_count": 5,
     "metadata": {},
     "output_type": "execute_result"
    }
   ],
   "source": [
    "103524 / 50"
   ]
  },
  {
   "cell_type": "code",
   "execution_count": 4,
   "metadata": {},
   "outputs": [
    {
     "name": "stdout",
     "output_type": "stream",
     "text": [
      "201\n",
      "{'finalizado': True, 'mensaje': '¡Registro(s) obtenido(s) con éxito!', 'datos': {'total': 103524, 'filas': [{'id': '103526', 'codigo': '19284/2022', 'titulo': 'Transferencia de Cuotas de Capital', 'resumen': 'TESTIMONIO DE TRANSFERENCIA DE CUOTAS CAPITAL ', 'fechaPublicacion': '2022-09-27T17:33:19.000Z', 'empresa': {'matricula': '394931029', 'matriculaAnterior': '00435752', 'razonSocial': 'NEWHEALTH BOLIVIA S.R.L.'}, 'fechaPublicacionFormato': '2022/09/27'}, {'id': '103525', 'codigo': '19283/2022', 'titulo': 'Constitución de Sociedad Comercial S.R.L., Sociedad Colectiva o Sociedad en Comandita Simple', 'resumen': 'TESTIMONIO DE CONSTITUCION ', 'fechaPublicacion': '2022-09-27T17:31:53.000Z', 'empresa': {'matricula': '466467023', 'matriculaAnterior': None, 'razonSocial': 'COMPAÑIA MINERA HORIZONTE S.R.L.'}, 'fechaPublicacionFormato': '2022/09/27'}, {'id': '103524', 'codigo': '19282/2022', 'titulo': 'CONVOCATORIA A LA JUNTA GENERAL EXTRAORDINARIA DE ACCIONISTAS', 'resumen': ' CONVOCATORIA A LA JUNTA GENERAL EXTRAORDINARIA DE ACCIONISTAS  EL DIRECTORIO DE NUESTRA SEÑORA DE LA PAZ S.A., DE ACUERDO A LO DISPUESTO POR LOS ESTATUTOS DE LA SOCIEDAD Y EL ARTÍCULO 288 Y 289 DEL CÓDIGO DE COMERCIO BOLIVIANO, CONVOCA A LA JUNTA GENERAL EXTRAORDINARIA DE SOCIOS, QUE SE LLEVARÁ A CABO EL DÍA 2022-10-05 A HORAS 12:30, EN EL DOMICILIO LEGAL DE LA SOCIEDAD, UBICADO EN CALLE PRESBITERO MEDINA NO. 2412 DE LA CIUDAD LA PAZ DE DEL DEPARTAMENTO DE LA PAZ ESTADO PLURINACIONAL DE BOLIVIA, PARA CONSIDERAR EL SIGUIENTE ORDEN DEL DÍA:   AUTORIZACION AL PRESIDENTE DEL DIRECTORIO Y REPRESENTANTE LEGAL DE LA SOCIEDAD A LOS FINES DE REALIZAR INVERSIONES EN SOCIEDADES ADMINISTRADORAS DE FONDOS DE INVERSION (SAFI) Y OPERACIONES BURSÁTILES.  LECTURA Y APROBACION DE INSTRUCTIVA DE PODER ESPECIAL A LOS FINES DEL PUNTO PRIMERO DEL ORDEN DEL DIA.  APROBACION DEL ACTA.  DESIGNACION DE ACCIONISTAS PARA LA FIRMA DEL ACTA.    REQUISITOS PARA ASISTIR A LA JUNTA GENERAL:  PARA CONCURRIR A LA CITADA JUNTA GENERAL EXTRAORDINARIA DE ACCIONISTAS, LOS TITULARES DE ACCIONES NOMINATIVAS DEBERÁN ESTAR DEBIDAMENTE REGISTRADOS EN EL LIBRO DE REGISTRO DE ACCIONES DE LA SOCIEDAD. NO PODRÁN CONCURRIR A LA JUNTA LOS ACCIONISTAS QUE SE ENCUENTREN EN ALGUNA SITUACIÓN PREVISTA POR LOS ESTATUTOS SOCIALES CONSIDERADA COMO IMPEDIMENTO. DE CONFORMIDAD CON EL ARTÍCULO 294 DEL CÓDIGO DE COMERCIO BOLIVIANO, DESDE EL DÍA DE LA PUBLICACIÓN, QUEDARÁ SUSPENDIDO EL REGISTRO DE TRANSFERENCIAS, ASÍ COMO EL REGISTRO DE TRANSMISIÓN DE ACCIONES, HASTA EL DÍA SIGUIENTE POSTERIOR A LA REALIZACIÓN DE LA JUNTA. ', 'fechaPublicacion': '2022-09-27T17:31:24.000Z', 'empresa': {'matricula': '1007019025', 'matriculaAnterior': '00013100', 'razonSocial': 'NUESTRA SEÑORA DE LA PAZ S.A.'}, 'fechaPublicacionFormato': '2022/09/27'}, {'id': '103523', 'codigo': '19281/2022', 'titulo': 'NOTIFICACIÓN DE CAMBIO DE DIRECCIÓN DE LA EMPRESA', 'resumen': ' NOTIFICACIÓN DE CAMBIO DE DIRECCIÓN DE LA EMPRESA  LA EMPRESA JUAN GUSTAVO PINAYA FLORES CON MATRÍCULA DE COMERCIO: 6079532014 ANUNCIA EL CAMBIO DE DIRECCIÓN DE SU CASA MATRIZ  A: ZONA: VILLA BOLIVAR B, AVENIDA: 104, NRO. 7224  ENTRE CALLE 123 Y AVENIDA ADUANA  ', 'fechaPublicacion': '2022-09-27T17:21:32.000Z', 'empresa': {'matricula': '6079532014', 'matriculaAnterior': '00431019', 'razonSocial': 'JUAN GUSTAVO PINAYA FLORES'}, 'fechaPublicacionFormato': '2022/09/27'}, {'id': '103522', 'codigo': '19280/2022', 'titulo': 'Modificación, Aclaración y/o Complementación de la Constitución de Sociedad Comercial', 'resumen': 'TESTIMONIO DE ESCRITURA PUBLICA DE MODIFICACION DE LAS ESCRITURAS SOCIALES Y ESTATUTOS POR EFECTO DE CAMBIO DE DOMICILIO LEGAL DE LA SOCIEDAD', 'fechaPublicacion': '2022-09-27T17:15:13.000Z', 'empresa': {'matricula': '1020689026', 'matriculaAnterior': '00012949', 'razonSocial': 'KIEFFER Y ASOCIADOS S.A. CORREDORES DE SEGUROS'}, 'fechaPublicacionFormato': '2022/09/27'}, {'id': '103521', 'codigo': '19279/2022', 'titulo': 'NOTIFICACIÓN DE CAMBIO DE DIRECCIÓN DE LA EMPRESA', 'resumen': ' NOTIFICACIÓN DE CAMBIO DE DIRECCIÓN DE LA EMPRESA  LA EMPRESA KIEFFER Y ASOCIADOS S.A. CORREDORES DE SEGUROS CON MATRÍCULA DE COMERCIO: 1020689026 ANUNCIA EL CAMBIO DE DIRECCIÓN DE SU CASA MATRIZ  A: BARRIO: VILLA MERCEDES, AVENIDA: ROCA Y CORONADO, NRO. 3125, EDIFICIO: S/N, PISO: 1, OFICINA: 3125  ENTRE 3ER Y 4TO ANILLO FRENTE A LA FEXPOCRUZ ', 'fechaPublicacion': '2022-09-27T17:15:13.000Z', 'empresa': {'matricula': '1020689026', 'matriculaAnterior': '00012949', 'razonSocial': 'KIEFFER Y ASOCIADOS S.A. CORREDORES DE SEGUROS'}, 'fechaPublicacionFormato': '2022/09/27'}, {'id': '103520', 'codigo': '19275/2022', 'titulo': 'CONVOCATORIA A LA JUNTA GENERAL ORDINARIA DE ACCIONISTAS', 'resumen': ' CONVOCATORIA A LA JUNTA GENERAL ORDINARIA DE ACCIONISTAS  EL DIRECTORIO DE NUESTRA SEÑORA DE LA PAZ S.A., DE ACUERDO A LO DISPUESTO POR LOS ESTATUTOS DE LA SOCIEDAD Y EL ARTÍCULO 288 Y 289 DEL CÓDIGO DE COMERCIO BOLIVIANO, CONVOCA A LA JUNTA GENERAL ORDINARIA DE SOCIOS, QUE SE LLEVARÁ A CABO EL DÍA 2022-10-05 A HORAS 11:00, EN EL DOMICILIO LEGAL DE LA SOCIEDAD, UBICADO EN CALLE PRESBITERO MEDINA NO. 2412, ZONA SOPOCACHI DE LA CIUDAD LA PAZ DE DEL DEPARTAMENTO DE LA PAZ ESTADO PLURINACIONAL DE BOLIVIA, PARA CONSIDERAR EL SIGUIENTE ORDEN DEL DÍA:   DESIGNACION DE NUEVO SINDICO TITULAR DE LA SOCIEDAD  APROBACION DEL ACTA  DESIGNACION DE ACCIONISTAS PARA LA FIRMA DEL ACTA    REQUISITOS PARA ASISTIR A LA JUNTA GENERAL:  PARA CONCURRIR A LA CITADA JUNTA GENERAL ORDINARIA DE ACCIONISTAS, LOS TITULARES DE ACCIONES NOMINATIVAS DEBERÁN ESTAR DEBIDAMENTE REGISTRADOS EN EL LIBRO DE REGISTRO DE ACCIONES DE LA SOCIEDAD. NO PODRÁN CONCURRIR A LA JUNTA LOS ACCIONISTAS QUE SE ENCUENTREN EN ALGUNA SITUACIÓN PREVISTA POR LOS ESTATUTOS SOCIALES CONSIDERADA COMO IMPEDIMENTO. DE CONFORMIDAD CON EL ARTÍCULO 294 DEL CÓDIGO DE COMERCIO BOLIVIANO, DESDE EL DÍA DE LA PUBLICACIÓN, QUEDARÁ SUSPENDIDO EL REGISTRO DE TRANSFERENCIAS, ASÍ COMO EL REGISTRO DE TRANSMISIÓN DE ACCIONES, HASTA EL DÍA SIGUIENTE POSTERIOR A LA REALIZACIÓN DE LA JUNTA. ', 'fechaPublicacion': '2022-09-27T17:13:24.000Z', 'empresa': {'matricula': '1007019025', 'matriculaAnterior': '00013100', 'razonSocial': 'NUESTRA SEÑORA DE LA PAZ S.A.'}, 'fechaPublicacionFormato': '2022/09/27'}, {'id': '103519', 'codigo': '19276/2022', 'titulo': 'NOTIFICACIÓN DE CAMBIO DE DIRECCIÓN DE LA EMPRESA', 'resumen': ' NOTIFICACIÓN DE CAMBIO DE DIRECCIÓN DE LA EMPRESA  LA EMPRESA PATROCINIO MARCO CRUZ TOLEDO CON MATRÍCULA DE COMERCIO: 6339120010 ANUNCIA EL CAMBIO DE DIRECCIÓN DE SU CASA MATRIZ  A: BARRIO: BARRIO MANGAL, CALLE: VILLA IMPERIAL, NRO. SN, EDIFICIO: MARCO CRUZ, PISO: 1, OFICINA: 1  OBISPO SANTISTEVAN ', 'fechaPublicacion': '2022-09-27T17:06:05.000Z', 'empresa': {'matricula': '6339120010', 'matriculaAnterior': '00134111', 'razonSocial': 'PATROCINIO MARCO CRUZ TOLEDO'}, 'fechaPublicacionFormato': '2022/09/27'}, {'id': '103517', 'codigo': '19140/2022', 'titulo': 'PUBLICACIÓN DE LA MEMORIA ANUAL DE LA SOCIEDAD EMPRESA EXPORTADORA EXBOLCOFFEE S.A.', 'resumen': ' PUBLICACIÓN DE LA MEMORIA ANUAL DE LA SOCIEDAD EMPRESA EXPORTADORA EXBOLCOFFEE S.A.  PUBLICACIÓN DE LA MEMORIA ANUAL DE LA SOCIEDAD: EMPRESA EXPORTADORA EXBOLCOFFEE S.A. ', 'fechaPublicacion': '2022-09-27T16:59:09.000Z', 'empresa': {'matricula': '336750023', 'matriculaAnterior': '00369373', 'razonSocial': 'EMPRESA EXPORTADORA EXBOLCOFFEE S.A.'}, 'fechaPublicacionFormato': '2022/09/27'}, {'id': '103516', 'codigo': '19274/2022', 'titulo': 'NOTIFICACIÓN DE CAMBIO DE DIRECCIÓN DE LA EMPRESA', 'resumen': ' NOTIFICACIÓN DE CAMBIO DE DIRECCIÓN DE LA EMPRESA  LA EMPRESA GOMEZ RAMALLO VICTOR HUGO CON MATRÍCULA DE COMERCIO: 3498022018 ANUNCIA EL CAMBIO DE DIRECCIÓN DE SU CASA MATRIZ  A: ZONA: MIRAFLORES, CALLE: PUERTO RICO, NRO. 1030   ', 'fechaPublicacion': '2022-09-27T16:56:55.000Z', 'empresa': {'matricula': '3498022018', 'matriculaAnterior': '00119851', 'razonSocial': 'GOMEZ RAMALLO VICTOR HUGO'}, 'fechaPublicacionFormato': '2022/09/27'}, {'id': '103515', 'codigo': '19273/2022', 'titulo': 'NOTIFICACIÓN DE CAMBIO DE DIRECCIÓN DE LA EMPRESA', 'resumen': ' NOTIFICACIÓN DE CAMBIO DE DIRECCIÓN DE LA EMPRESA  LA EMPRESA VITAMINAGUA BOLIVIA S.R.L. CON MATRÍCULA DE COMERCIO: 399738026 ANUNCIA EL CAMBIO DE DIRECCIÓN DE SU CASA MATRIZ  A: ZONA: SUMUMPAYA, AVENIDA: LIBERTADOR BOLIVAR, NRO. 500   ', 'fechaPublicacion': '2022-09-27T16:35:07.000Z', 'empresa': {'matricula': '399738026', 'matriculaAnterior': '00438557', 'razonSocial': 'VITAMINAGUA BOLIVIA S.R.L.'}, 'fechaPublicacionFormato': '2022/09/27'}, {'id': '103514', 'codigo': '19258/2022', 'titulo': 'PUBLICACIÓN DE LA MEMORIA ANUAL DE LA SOCIEDAD ITACAMBA CEMENTO S.A.', 'resumen': ' PUBLICACIÓN DE LA MEMORIA ANUAL DE LA SOCIEDAD ITACAMBA CEMENTO S.A.  PUBLICACIÓN DE LA MEMORIA ANUAL DE LA SOCIEDAD: ITACAMBA CEMENTO S.A. ', 'fechaPublicacion': '2022-09-27T16:26:23.000Z', 'empresa': {'matricula': '1028695029', 'matriculaAnterior': '00013395', 'razonSocial': 'ITACAMBA CEMENTO S.A.'}, 'fechaPublicacionFormato': '2022/09/27'}, {'id': '103513', 'codigo': '19272/2022', 'titulo': 'NOTIFICACIÓN DE CAMBIO DE DIRECCIÓN DE LA EMPRESA', 'resumen': ' NOTIFICACIÓN DE CAMBIO DE DIRECCIÓN DE LA EMPRESA  LA EMPRESA SMART MONKEY CON MATRÍCULA DE COMERCIO: 6136868019 ANUNCIA EL CAMBIO DE DIRECCIÓN DE SU CASA MATRIZ  A: ZONA: TEMBLADERANI, CALLE: JOSÉ SARAVIA , NRO. 252, PISO: 2, DEPARTAMENTO  ENTRE EL MERCADO Y ESTADIO BOLIVAR ', 'fechaPublicacion': '2022-09-27T16:20:09.000Z', 'empresa': {'matricula': '6136868019', 'matriculaAnterior': '00331431', 'razonSocial': 'SMART MONKEY'}, 'fechaPublicacionFormato': '2022/09/27'}, {'id': '103512', 'codigo': '19271/2022', 'titulo': 'NOTIFICACIÓN DE CAMBIO DE DIRECCIÓN DE LA EMPRESA', 'resumen': ' NOTIFICACIÓN DE CAMBIO DE DIRECCIÓN DE LA EMPRESA  LA EMPRESA AUTO REPUESTOS PRIMAVERA CON MATRÍCULA DE COMERCIO: 6218927013 ANUNCIA EL CAMBIO DE DIRECCIÓN DE SU CASA MATRIZ  A: BARRIO: TORO TORO, AVENIDA: PAURITO ESQUINA 3 DE MAYO, NRO. 736  AVENIDA PAURITO ESQUINA 3 DE MAYO ', 'fechaPublicacion': '2022-09-27T16:16:26.000Z', 'empresa': {'matricula': '6218927013', 'matriculaAnterior': '00219083', 'razonSocial': 'AUTO REPUESTOS PRIMAVERA'}, 'fechaPublicacionFormato': '2022/09/27'}, {'id': '103511', 'codigo': '19270/2022', 'titulo': 'NOTIFICACIÓN DE CAMBIO DE DIRECCIÓN DE LA EMPRESA', 'resumen': ' NOTIFICACIÓN DE CAMBIO DE DIRECCIÓN DE LA EMPRESA  LA EMPRESA ALEJANDRA VALERIA ROSPILLOSO MIRANDA CON MATRÍCULA DE COMERCIO: 7513230015 ANUNCIA EL CAMBIO DE DIRECCIÓN DE SU CASA MATRIZ  A: ZONA: BERARDO VALDA , AVENIDA: PLANTA DIESEL, NRO. 371  ENTRE LA CALLE DAMASO KATARI FINAL BERADO VALDA  ', 'fechaPublicacion': '2022-09-27T16:16:06.000Z', 'empresa': {'matricula': '7513230015', 'matriculaAnterior': '00408961', 'razonSocial': 'ALEJANDRA VALERIA ROSPILLOSO MIRANDA'}, 'fechaPublicacionFormato': '2022/09/27'}, {'id': '103510', 'codigo': '19216/2022', 'titulo': 'PUBLICACIÓN DE LA MEMORIA ANUAL DE LA SOCIEDAD IMPORTADORA & EMBOTELLADORA NEW YORK BEVERAGE S.A.', 'resumen': ' PUBLICACIÓN DE LA MEMORIA ANUAL DE LA SOCIEDAD IMPORTADORA & EMBOTELLADORA NEW YORK BEVERAGE S.A.  PUBLICACIÓN DE LA MEMORIA ANUAL DE LA SOCIEDAD: IMPORTADORA & EMBOTELLADORA NEW YORK BEVERAGE S.A. ', 'fechaPublicacion': '2022-09-27T16:13:38.000Z', 'empresa': {'matricula': '294070022', 'matriculaAnterior': '00324234', 'razonSocial': 'IMPORTADORA & EMBOTELLADORA NEW YORK BEVERAGE S.A.'}, 'fechaPublicacionFormato': '2022/09/27'}, {'id': '103509', 'codigo': '19192/2022', 'titulo': 'PUBLICACIÓN DE LA MEMORIA ANUAL DE LA SOCIEDAD YPFB CHACO S.A.', 'resumen': ' PUBLICACIÓN DE LA MEMORIA ANUAL DE LA SOCIEDAD YPFB CHACO S.A.  PUBLICACIÓN DE LA MEMORIA ANUAL DE LA SOCIEDAD: YPFB CHACO S.A. ', 'fechaPublicacion': '2022-09-27T16:13:36.000Z', 'empresa': {'matricula': '1028359026', 'matriculaAnterior': '00013383', 'razonSocial': 'YPFB CHACO S.A.'}, 'fechaPublicacionFormato': '2022/09/27'}, {'id': '103508', 'codigo': '19269/2022', 'titulo': 'NOTIFICACIÓN DE CAMBIO DE DIRECCIÓN DE LA EMPRESA', 'resumen': ' NOTIFICACIÓN DE CAMBIO DE DIRECCIÓN DE LA EMPRESA  LA EMPRESA TODO TURISMO SOCIEDAD DE RESPONSABILIDAD LIMITADA. CON MATRÍCULA DE COMERCIO: 1022047027 ANUNCIA EL CAMBIO DE DIRECCIÓN DE SU SUCURSAL SUCURSAL LA PAZ A: ZONA: CHALLAPAMPA, PASAJE: KRAMER, NRO. 710, EDIFICIO: CASA, PISO: 1, DEPARTAMENTO: 710   ', 'fechaPublicacion': '2022-09-27T16:10:00.000Z', 'empresa': {'matricula': '1022047027', 'matriculaAnterior': '00049329', 'razonSocial': 'TODO TURISMO SOCIEDAD DE RESPONSABILIDAD LIMITADA.'}, 'fechaPublicacionFormato': '2022/09/27'}, {'id': '103507', 'codigo': '19268/2022', 'titulo': 'NOTIFICACIÓN DE CAMBIO DE DIRECCIÓN DE LA EMPRESA', 'resumen': ' NOTIFICACIÓN DE CAMBIO DE DIRECCIÓN DE LA EMPRESA  LA EMPRESA CONSTRUCTORA CONSULTORA MONTAÑO ANDRADE S.R.L. CON MATRÍCULA DE COMERCIO: 180410027 ANUNCIA EL CAMBIO DE DIRECCIÓN DE SU CASA MATRIZ  A: ZONA: CENTRAL, CALLE: 1RO. DE NOVIEMBRE ENTRE POTOSÍ Y PAGADOR, NRO. 378   ', 'fechaPublicacion': '2022-09-27T16:01:58.000Z', 'empresa': {'matricula': '180410027', 'matriculaAnterior': '00173328', 'razonSocial': 'CONSTRUCTORA CONSULTORA MONTAÑO ANDRADE S.R.L.'}, 'fechaPublicacionFormato': '2022/09/27'}, {'id': '103506', 'codigo': '19267/2022', 'titulo': 'Modificación, Aclaración y/o Complementación de la Constitución de Sociedad Comercial', 'resumen': 'ESCRITURA PÚBLICA  DE ACLARACIÓN DE OBJETO SOCIAL.', 'fechaPublicacion': '2022-09-27T15:58:08.000Z', 'empresa': {'matricula': '464360021', 'matriculaAnterior': None, 'razonSocial': 'TRANSPORTES HIDROALIANZA S.R.L.'}, 'fechaPublicacionFormato': '2022/09/27'}, {'id': '103505', 'codigo': '19266/2022', 'titulo': 'NOTIFICACIÓN DE CAMBIO DE DIRECCIÓN DE LA EMPRESA', 'resumen': ' NOTIFICACIÓN DE CAMBIO DE DIRECCIÓN DE LA EMPRESA  LA EMPRESA GRADIENTE S.R.L. EMPRESA CONSTRUCTORA CON MATRÍCULA DE COMERCIO: 1024029023 ANUNCIA EL CAMBIO DE DIRECCIÓN DE SU CASA MATRIZ  A: ZONA: LA TERMINAL, AVENIDA: JAIME PAZ ZAMORA, NRO. 1352  AV,JAIME PAZ ZAMORA (EX AV. LAS AMERICAS) ENTRE CALLE CNL.ARTURO SORUCO ORTIZ Y CALLE ESPAÑA ', 'fechaPublicacion': '2022-09-27T15:56:40.000Z', 'empresa': {'matricula': '1024029023', 'matriculaAnterior': '00007961', 'razonSocial': 'GRADIENTE S.R.L. EMPRESA CONSTRUCTORA'}, 'fechaPublicacionFormato': '2022/09/27'}, {'id': '103503', 'codigo': '19264/2022', 'titulo': 'Proyecto de Distribución de Patrimonio', 'resumen': 'PROYECTO DE DISTRIBUCIÓN DEL PATRIMONIO AL 31/05/2022', 'fechaPublicacion': '2022-09-27T15:56:30.000Z', 'empresa': {'matricula': '385114025', 'matriculaAnterior': '00423495', 'razonSocial': 'SERVICIOS Y FRANQUICIAS ALIMENTICIAS BOLIVIA TOPFOOD S.A.'}, 'fechaPublicacionFormato': '2022/09/27'}, {'id': '103504', 'codigo': '19265/2022', 'titulo': 'Disolución y Liquidación de Sociedad Comercial', 'resumen': 'DISOLUCIÓN, LIQUIDACIÓN Y CONSIGUIENTE CANCELACIÓN DE MATRÍCULA DE COMERCIO.', 'fechaPublicacion': '2022-09-27T15:56:30.000Z', 'empresa': {'matricula': '385114025', 'matriculaAnterior': '00423495', 'razonSocial': 'SERVICIOS Y FRANQUICIAS ALIMENTICIAS BOLIVIA TOPFOOD S.A.'}, 'fechaPublicacionFormato': '2022/09/27'}, {'id': '103502', 'codigo': '19263/2022', 'titulo': 'Modificación, Aclaración y/o Complementación de la Constitución de Sociedad Comercial', 'resumen': 'TESTIMONIO DE MODIFICACION POR AMPLIACION DE OBJETO', 'fechaPublicacion': '2022-09-27T15:46:53.000Z', 'empresa': {'matricula': '193660027', 'matriculaAnterior': '00192124', 'razonSocial': 'INDUSTRIA SUPERIOR DE LA SIERRA S.R.L.'}, 'fechaPublicacionFormato': '2022/09/27'}, {'id': '103501', 'codigo': '19262/2022', 'titulo': 'Constitución de Sociedad Comercial S.R.L., Sociedad Colectiva o Sociedad en Comandita Simple', 'resumen': 'TESTIMONIO DE CONSTITUCIÓN DE SOCIEDAD DE RESPONSABILIDAD LIMITADA \"UPB CONSULTING GROUP S.R.L\".', 'fechaPublicacion': '2022-09-27T15:44:42.000Z', 'empresa': {'matricula': '466464027', 'matriculaAnterior': None, 'razonSocial': 'UPB Consulting Group S.R.L.'}, 'fechaPublicacionFormato': '2022/09/27'}, {'id': '103500', 'codigo': '19261/2022', 'titulo': 'Constitución de Sociedad Comercial S.R.L., Sociedad Colectiva o Sociedad en Comandita Simple', 'resumen': 'ESCRITURA PUBLICA DE CONSTITUCIÓN DE SOCIEDAD DE RESPONSABILIDAD LIMITADA DENOMINADA “SOYACRUZ S.R.L.”.', 'fechaPublicacion': '2022-09-27T15:37:11.000Z', 'empresa': {'matricula': '466463022', 'matriculaAnterior': None, 'razonSocial': 'SOYACRUZ S.R.L.'}, 'fechaPublicacionFormato': '2022/09/27'}, {'id': '103499', 'codigo': '19259/2022', 'titulo': 'NOTIFICACIÓN DE CAMBIO DE DIRECCIÓN DE LA EMPRESA', 'resumen': ' NOTIFICACIÓN DE CAMBIO DE DIRECCIÓN DE LA EMPRESA  LA EMPRESA PRIMIPRINT CON MATRÍCULA DE COMERCIO: 3432516014 ANUNCIA EL CAMBIO DE DIRECCIÓN DE SU CASA MATRIZ  A: ZONA: SAN PEDRO BAJO, CALLE: JUANA AZURDUY DE PADILLA, NRO. 634, EDIFICIO: EDIFICIO VERA, PISO: PLANTA BAJA, LOCAL: 634  ENTRE BOQUERON Y BATOLINA SISA ', 'fechaPublicacion': '2022-09-27T15:24:24.000Z', 'empresa': {'matricula': '3432516014', 'matriculaAnterior': '00434600', 'razonSocial': 'PRIMIPRINT'}, 'fechaPublicacionFormato': '2022/09/27'}, {'id': '103498', 'codigo': '19256/2022', 'titulo': 'Reducción de Capital Social', 'resumen': 'ESCRITURA PUBLICA DE DISMINUCION DE CAPITAL SOCIAL Y MODIFICACION DE ESCRITURA PUBLICA DE CONSTITUCION.', 'fechaPublicacion': '2022-09-27T15:03:35.000Z', 'empresa': {'matricula': '158808025', 'matriculaAnterior': '00141508', 'razonSocial': 'SC MINERALS BOLIVIA S.R.L.'}, 'fechaPublicacionFormato': '2022/09/27'}, {'id': '103497', 'codigo': '19255/2022', 'titulo': 'NOTIFICACIÓN DE CAMBIO DE DIRECCIÓN DE LA EMPRESA', 'resumen': ' NOTIFICACIÓN DE CAMBIO DE DIRECCIÓN DE LA EMPRESA  LA EMPRESA FELIPE FLORES PILLCO CON MATRÍCULA DE COMERCIO: 3704750011 ANUNCIA EL CAMBIO DE DIRECCIÓN DE SU CASA MATRIZ  A: ZONA: CENTRAL YURA, AVENIDA: SIN NOMBRE, NRO. SIN NUMERO  CERCA A LA PLAZA CENTRAL ', 'fechaPublicacion': '2022-09-27T14:59:11.000Z', 'empresa': {'matricula': '3704750011', 'matriculaAnterior': '00194101', 'razonSocial': 'FELIPE FLORES PILLCO'}, 'fechaPublicacionFormato': '2022/09/27'}, {'id': '103496', 'codigo': '19137/2022', 'titulo': 'CONVOCATORIA A LA ASAMBLEA GENERAL EXTRAORDINARIA DE SOCIOS', 'resumen': ' CONVOCATORIA A LA ASAMBLEA GENERAL EXTRAORDINARIA DE SOCIOS  LA SOCIEDAD H & B ASOCIADOS S.R.L. AGENCIA DESPACHANTE DE ADUANA, DE ACUERDO A LO DISPUESTO POR EL ARTÍCULO 206 DEL CÓDIGO DE COMERCIO DE BOLIVIA, CONVOCA A LA ASAMBLEA GENERAL EXTRAORDINARIA DE SOCIOS, QUE SE LLEVARÁ A CABO EL DÍA 2022-10-07 A HORAS 15:00, EN EL DOMICILIO LEGAL DE LA SOCIEDAD, UBICADO EN CALLE JUAN FRANCISCO BEDREGAL, ESQ. CALLE PEDRO CALDERÓN DE LA BARCA DE LA CIUDAD DE COCHABAMBA DEL DEPARTAMENTO DE COCHABAMBA ESTADO PLURINACIONAL DE BOLIVIA, PARA CONSIDERAR EL SIGUIENTE ORDEN DEL DÍA:   1.\\tLECTURA DE LA CONVOCATORIA. 2.\\tRETIRO DE LA GERENTE Y REPRESENTANTE LEGAL Y REVOCATORIA DE PODERES. 3.\\tDESIGNACIÓN DE REPRESENTANTE LEGAL Y OTORGACIÓN DE NUEVO PODER.  ', 'fechaPublicacion': '2022-09-27T14:52:46.000Z', 'empresa': {'matricula': '1009287020', 'matriculaAnterior': '00007422', 'razonSocial': 'H & B ASOCIADOS S.R.L. AGENCIA DESPACHANTE DE ADUANA'}, 'fechaPublicacionFormato': '2022/09/27'}, {'id': '103495', 'codigo': '19254/2022', 'titulo': 'NOTIFICACIÓN DE CAMBIO DE DIRECCIÓN DE LA EMPRESA', 'resumen': ' NOTIFICACIÓN DE CAMBIO DE DIRECCIÓN DE LA EMPRESA  LA EMPRESA FABRICA TEXTIL MEDITEX CON MATRÍCULA DE COMERCIO: 6778586015 ANUNCIA EL CAMBIO DE DIRECCIÓN DE SU CASA MATRIZ  A: ZONA: MUNAYPATA, CALLE: SAN PEDRO DE SORATA, NRO. 1603, PISO: 3, DEPARTAMENTO  ENTRE CALLE SANTA ANA A DOS CUADRAS DEL MERCADO SANTIAGO ', 'fechaPublicacion': '2022-09-27T14:52:04.000Z', 'empresa': {'matricula': '6778586015', 'matriculaAnterior': '00442074', 'razonSocial': 'FABRICA TEXTIL MEDITEX'}, 'fechaPublicacionFormato': '2022/09/27'}, {'id': '103494', 'codigo': '19253/2022', 'titulo': 'Modificación, Aclaración y/o Complementación de la Constitución de Sociedad Comercial', 'resumen': 'ESCRITURA PUBLICA DE MODIFICACION DEL ARTICULO QUINCUAGESIMO NOVENO DE LOS ESTATUTOS DE LA SOCIEDAD.', 'fechaPublicacion': '2022-09-27T14:50:53.000Z', 'empresa': {'matricula': '1020711029', 'matriculaAnterior': '00012811', 'razonSocial': 'LABORATORIOS VITA S.A.'}, 'fechaPublicacionFormato': '2022/09/27'}, {'id': '103493', 'codigo': '19252/2022', 'titulo': 'NOTIFICACIÓN DE CAMBIO DE DIRECCIÓN DE LA EMPRESA', 'resumen': ' NOTIFICACIÓN DE CAMBIO DE DIRECCIÓN DE LA EMPRESA  LA EMPRESA AZABOL LTDA. CON MATRÍCULA DE COMERCIO: 1027471020 ANUNCIA EL CAMBIO DE DIRECCIÓN DE SU CASA MATRIZ  A: ZONA: MAQUINA VIEJA, CALLE: AROMA, NRO. 77  CALLE AROMA N 77 ENTRE CALLE BENI Y AVENIDA URUGUAY PRIMER ANILLO ', 'fechaPublicacion': '2022-09-27T14:40:27.000Z', 'empresa': {'matricula': '1027471020', 'matriculaAnterior': '00009751', 'razonSocial': 'AZABOL LTDA.'}, 'fechaPublicacionFormato': '2022/09/27'}, {'id': '103492', 'codigo': '19251/2022', 'titulo': 'Constitución de Sociedad Comercial S.R.L., Sociedad Colectiva o Sociedad en Comandita Simple', 'resumen': 'ESCRITURA PUBLICA SOBRE CONSTITUCION DE UNA SOCIEDAD DE RESPONSABILIDAD LIMITADA QUE GIRARA BAJO LA DENOMINACION DE: ICL BOLIVIA S.R.L.: REALIZADA POR LOS SEÑORES: LENY AMPARO TAPANACHE RUIZ DE GARCIA Y ARTURO RICARDO CHAVEZ PITA, EN SU CONDICION DE SOCIOS.', 'fechaPublicacion': '2022-09-27T14:33:20.000Z', 'empresa': {'matricula': '466459026', 'matriculaAnterior': None, 'razonSocial': 'ICL BOLIVIA S.R.L.'}, 'fechaPublicacionFormato': '2022/09/27'}, {'id': '103491', 'codigo': '19250/2022', 'titulo': 'Transferencia de Cuotas de Capital', 'resumen': 'ESCRITURA PUBLICA SOBRE TRANSFERENCIA DE CUOTAS DE CAPITAL, Y CONSIGUIENTE MODIFICACION DE LA ESCRITURA SOCIAL.', 'fechaPublicacion': '2022-09-27T14:32:33.000Z', 'empresa': {'matricula': '150622026', 'matriculaAnterior': '00131686', 'razonSocial': 'EMPRESA MINERA CUPRITA SOCIEDAD DE RESPONSABILIDAD LIMITADA'}, 'fechaPublicacionFormato': '2022/09/27'}, {'id': '103490', 'codigo': '19249/2022', 'titulo': 'Transferencia de Cuotas de Capital', 'resumen': 'ESCRITURA PUBLICA SOBRE ACLARACION Y CORRECCION DE ERRORES DE TRANSCRIPCION EN LA ESCRITURA PUBLICA N° 286/2022.', 'fechaPublicacion': '2022-09-27T14:32:33.000Z', 'empresa': {'matricula': '150622026', 'matriculaAnterior': '00131686', 'razonSocial': 'EMPRESA MINERA CUPRITA SOCIEDAD DE RESPONSABILIDAD LIMITADA'}, 'fechaPublicacionFormato': '2022/09/27'}, {'id': '103488', 'codigo': '19247/2022', 'titulo': 'Proyecto de Distribución de Patrimonio', 'resumen': 'PROYECTO DE DISTRIBUCION DE PATRIMONIO AL 31-12-2021.', 'fechaPublicacion': '2022-09-27T14:10:11.000Z', 'empresa': {'matricula': '300794020', 'matriculaAnterior': '00332512', 'razonSocial': 'MUNSTER INVERSIONES S.R.L.'}, 'fechaPublicacionFormato': '2022/09/27'}, {'id': '103489', 'codigo': '19248/2022', 'titulo': 'Disolución y Liquidación de Sociedad Comercial', 'resumen': 'DISOLUCION, LIQUIDACION Y CANCELACION DE MATRICULA Y CIERRE QUE REALIZA LA SOCIEDAD MUNSTER INVERSIONES S.R.L. ', 'fechaPublicacion': '2022-09-27T14:10:11.000Z', 'empresa': {'matricula': '300794020', 'matriculaAnterior': '00332512', 'razonSocial': 'MUNSTER INVERSIONES S.R.L.'}, 'fechaPublicacionFormato': '2022/09/27'}, {'id': '103487', 'codigo': '19246/2022', 'titulo': 'Aumento de Capital Social', 'resumen': 'ESCRITURA PUBLICA SOBRE MODIFICACION POR INCREMENTO DE CAPITAL DE UNA SOCIEDAD DE RESPONSABILIDAD LIMITADA QUE GIRA BAJO LA DENOMINACION \"FABRICA DEL SUR SOCIEDAD DE RESPONSABILIDAD LIMITADA\", QUE EFECTUAN LOS SOCIOS SEÑORES: LUIS FERNANDO LENIS CAZAS Y MARIA ROSA ABASTOFLOR MONTERO DE LENIS.', 'fechaPublicacion': '2022-09-27T14:07:13.000Z', 'empresa': {'matricula': '227106027', 'matriculaAnterior': '00236200', 'razonSocial': 'FABRICA DEL SUR SOCIEDAD DE RESPONSABILIDAD LIMITADA'}, 'fechaPublicacionFormato': '2022/09/27'}, {'id': '103486', 'codigo': '19245/2022', 'titulo': 'Aumento de Capital Social', 'resumen': 'TESTIMONIO DE ESCRITURA PUBLICA COMPLEMENTARIA A LA ESCRITURA N°278/2022- INSERCION DE ACTA DE ASAMBLEA EXTRAORDINARIA DE SOCIOS. MISMA QUE REALIZAN LOS SEÑORES: LUIS FERNANDO LENIS CAZAS Y MARIA ROSA ABASTOFLOR MONTERO DE LENIS.', 'fechaPublicacion': '2022-09-27T14:07:13.000Z', 'empresa': {'matricula': '227106027', 'matriculaAnterior': '00236200', 'razonSocial': 'FABRICA DEL SUR SOCIEDAD DE RESPONSABILIDAD LIMITADA'}, 'fechaPublicacionFormato': '2022/09/27'}, {'id': '103485', 'codigo': '19244/2022', 'titulo': 'NOTIFICACIÓN DE CAMBIO DE DIRECCIÓN DE LA EMPRESA', 'resumen': ' NOTIFICACIÓN DE CAMBIO DE DIRECCIÓN DE LA EMPRESA  LA EMPRESA ELSCO S.R.L. CON MATRÍCULA DE COMERCIO: 424855028 ANUNCIA EL CAMBIO DE DIRECCIÓN DE SU CASA MATRIZ  A: ZONA: ACHUMANI, AVENIDA: THE STRONGEST, NRO. S/N, EDIFICIO: CONDOMINIO GENESIS, BLOQUE G, PISO: 1, OFICINA: 103  CALLE 27 DE ACHUMANI, FRENTE AL ASILO SAN RAMON ', 'fechaPublicacion': '2022-09-27T14:06:54.000Z', 'empresa': {'matricula': '424855028', 'matriculaAnterior': '00455605', 'razonSocial': 'ELSCO S.R.L.'}, 'fechaPublicacionFormato': '2022/09/27'}, {'id': '103484', 'codigo': '19243/2022', 'titulo': 'NOTIFICACIÓN DE CAMBIO DE DIRECCIÓN DE LA EMPRESA', 'resumen': ' NOTIFICACIÓN DE CAMBIO DE DIRECCIÓN DE LA EMPRESA  LA EMPRESA SARINCOR CON MATRÍCULA DE COMERCIO: 10929139014 ANUNCIA EL CAMBIO DE DIRECCIÓN DE SU CASA MATRIZ  A: ZONA: CIUDAD SATELITE PLAN 405, AVENIDA: DIEGO DE PORTUGAL, NRO. 1485  SA ', 'fechaPublicacion': '2022-09-27T14:01:58.000Z', 'empresa': {'matricula': '10929139014', 'matriculaAnterior': '00414729', 'razonSocial': 'SARINCOR'}, 'fechaPublicacionFormato': '2022/09/27'}, {'id': '103483', 'codigo': '19242/2022', 'titulo': 'NOTIFICACIÓN DE CAMBIO DE DIRECCIÓN DE LA EMPRESA', 'resumen': ' NOTIFICACIÓN DE CAMBIO DE DIRECCIÓN DE LA EMPRESA  LA EMPRESA EMPRESA CONSTRUCTORA CONSULTORA \"ISPRO\" CON MATRÍCULA DE COMERCIO: 6707837015 ANUNCIA EL CAMBIO DE DIRECCIÓN DE SU CASA MATRIZ  A: ZONA: TEATRO AL AIRE LIBRE, CALLE: BARCELONA, NRO. 42  CALLE AMERICA Y CALLE COBIJA ', 'fechaPublicacion': '2022-09-27T13:59:21.000Z', 'empresa': {'matricula': '6707837015', 'matriculaAnterior': '00169912', 'razonSocial': 'EMPRESA CONSTRUCTORA CONSULTORA \"ISPRO\"'}, 'fechaPublicacionFormato': '2022/09/27'}, {'id': '103482', 'codigo': '19241/2022', 'titulo': 'Constitución de Sociedad Comercial S.R.L., Sociedad Colectiva o Sociedad en Comandita Simple', 'resumen': 'ESCRITURA PUBLICA DE CONSTITUCIÓN DE SOCIEDAD DE RESPONSABILIDAD LIMITADA DENOMINADA “BAUKUNST S.R.L.”.', 'fechaPublicacion': '2022-09-27T13:47:09.000Z', 'empresa': {'matricula': '466358022', 'matriculaAnterior': None, 'razonSocial': 'BAUKUNST S.R.L.'}, 'fechaPublicacionFormato': '2022/09/27'}, {'id': '103481', 'codigo': '19240/2022', 'titulo': 'NOTIFICACIÓN DE CAMBIO DE DIRECCIÓN DE LA EMPRESA', 'resumen': ' NOTIFICACIÓN DE CAMBIO DE DIRECCIÓN DE LA EMPRESA  LA EMPRESA JORGE CRESPO VILLARPANDO CON MATRÍCULA DE COMERCIO: 971309018 ANUNCIA EL CAMBIO DE DIRECCIÓN DE SU CASA MATRIZ  A: ZONA: LAS CUADRAS, CALLE: GUSTAVO OTERO, NRO. 669  ENTRE CALLE HANS GRETER Y HONORATO  SALAZAR ', 'fechaPublicacion': '2022-09-27T13:45:29.000Z', 'empresa': {'matricula': '971309018', 'matriculaAnterior': '00391992', 'razonSocial': 'JORGE CRESPO VILLARPANDO'}, 'fechaPublicacionFormato': '2022/09/27'}, {'id': '103480', 'codigo': '19239/2022', 'titulo': 'NOTIFICACIÓN DE CAMBIO DE DIRECCIÓN DE LA EMPRESA', 'resumen': ' NOTIFICACIÓN DE CAMBIO DE DIRECCIÓN DE LA EMPRESA  LA EMPRESA EMPRESA CONSTRUCTORA \"ROCAMONJE ARDAYA\" CON MATRÍCULA DE COMERCIO: 352505 ANUNCIA EL CAMBIO DE DIRECCIÓN DE SU CASA MATRIZ  A: BARRIO: 9 DE ABRIL, AVENIDA: GENERAL FEDERICO ROMAN, NRO. S/N, EDIFICIO: CONSTRUCTORA ROCAMONJE ARDAYA, PISO: 1, OFICINA: CONSTRUCTORA ROCAMONJE ARDAYA  AV.FEDERICO ROMAN ENTRE ANTONIO VACA DIEZ Y COCHABAMBA ', 'fechaPublicacion': '2022-09-27T13:40:16.000Z', 'empresa': {'matricula': '352505', 'matriculaAnterior': '00352505', 'razonSocial': 'EMPRESA CONSTRUCTORA \"ROCAMONJE ARDAYA\"'}, 'fechaPublicacionFormato': '2022/09/27'}, {'id': '103479', 'codigo': '19238/2022', 'titulo': 'NOTIFICACIÓN DE CAMBIO DE DIRECCIÓN DE LA EMPRESA', 'resumen': ' NOTIFICACIÓN DE CAMBIO DE DIRECCIÓN DE LA EMPRESA  LA EMPRESA 360 CONSULTORES CON MATRÍCULA DE COMERCIO: 4616195012 ANUNCIA EL CAMBIO DE DIRECCIÓN DE SU CASA MATRIZ  A: ZONA: AV GRIGOTA, CALLE: CALLE CASAMONTE, NRO. S/N  BARRIO VILLA FATIIMA CALLE CASAMONTES ESQ C/LAS HORCAS, LAS CALLES TAMBIEN SON CONOCIDAS COMO CALLE TAJIBO ESQ SANTIAGO VELASQUEZ A 2 CUADRAS DE AV.FATIMA Y 1 CUADRA AV.ESCUADRON VELASCO, A 1 CUADRA Y MEDIA DEL MODULO JULIO PRADO MONTAÑO ', 'fechaPublicacion': '2022-09-27T13:32:37.000Z', 'empresa': {'matricula': '4616195012', 'matriculaAnterior': '00425729', 'razonSocial': '360 CONSULTORES'}, 'fechaPublicacionFormato': '2022/09/27'}, {'id': '103478', 'codigo': '19237/2022', 'titulo': 'Aumento de Capital Social', 'resumen': 'ESCRITURA PÚBLICA DE AUMENTO DE CAPITAL.', 'fechaPublicacion': '2022-09-27T13:27:54.000Z', 'empresa': {'matricula': '375181024', 'matriculaAnterior': '00407560', 'razonSocial': 'CLAVCON S.R.L.'}, 'fechaPublicacionFormato': '2022/09/27'}, {'id': '103477', 'codigo': '19236/2022', 'titulo': 'Constitución de Sociedad Comercial S.R.L., Sociedad Colectiva o Sociedad en Comandita Simple', 'resumen': 'TESTIMONIO DE CONSTITUCION DE SOCIEDAD COMERCIAL ', 'fechaPublicacion': '2022-09-27T13:23:35.000Z', 'empresa': {'matricula': '466258020', 'matriculaAnterior': None, 'razonSocial': 'HNSProyectos y Servicios S.R.L.'}, 'fechaPublicacionFormato': '2022/09/27'}, {'id': '103476', 'codigo': '19235/2022', 'titulo': 'Transferencia de Cuotas de Capital', 'resumen': 'TRANSFERENCIA DE CUOTAS DE CAPITAL, SALIDA E INCORPORACION DE SOCIO Y CONSIGUIENTE MODIFICACION A LA ESCRITURA CONSTITUTIVA DE LA SOCIEDAD JIPEZA S.R.L. ', 'fechaPublicacion': '2022-09-27T13:21:48.000Z', 'empresa': {'matricula': '287474027', 'matriculaAnterior': '00315110', 'razonSocial': 'JIPEZA S.R.L.'}, 'fechaPublicacionFormato': '2022/09/27'}]}}\n"
     ]
    }
   ],
   "source": [
    "url2 = \"https://servicios.seprec.gob.bo/api/publicaciones\"\n",
    "\n",
    "# Make post request\n",
    "\n",
    "page = 1\n",
    "limit = 50\n",
    "\n",
    "\n",
    "while True:\n",
    "        \n",
    "    payload = {\n",
    "        \"fechaInicial\": \"\",\n",
    "        \"fecha\": \"\",\n",
    "        \"fechaFinal\": \"\",\n",
    "        \"categoria\": \"\",\n",
    "        \"texto\": \"\",\n",
    "        \"razonSocial\": \"\",\n",
    "        \"tipoPublicacion\": \"\",\n",
    "        \"matricula\": \"\",\n",
    "        \"resumen\": \"\",\n",
    "        \"limite\": limit,\n",
    "        \"pagina\": page\n",
    "    }\n",
    "\n",
    "    res = requests.post(url2, json=payload)\n",
    "\n",
    "    # print(res.status_code)\n",
    "    # print(res.json())\n",
    "    \n",
    "    if res.status_code != 201:\n",
    "        break\n",
    "    # Save data to JSON\n",
    "    with open('data_page_{page}.json', 'w') as outfile:\n",
    "        json.dump(data, outfile)"
   ]
  },
  {
   "cell_type": "code",
   "execution_count": 3,
   "metadata": {},
   "outputs": [
    {
     "name": "stdout",
     "output_type": "stream",
     "text": [
      "{'finalizado': False, 'codigo': 400, 'timestamp': 1664300613, 'mensaje': 'La solicitud no se puede completar, existen errores de validación.', 'datos': {'errores': ['limite no debe ser mayor que 50.']}}\n"
     ]
    }
   ],
   "source": [
    "print(res.json())"
   ]
  }
 ],
 "metadata": {
  "kernelspec": {
   "display_name": "Python 3.9.12 ('base')",
   "language": "python",
   "name": "python3"
  },
  "language_info": {
   "codemirror_mode": {
    "name": "ipython",
    "version": 3
   },
   "file_extension": ".py",
   "mimetype": "text/x-python",
   "name": "python",
   "nbconvert_exporter": "python",
   "pygments_lexer": "ipython3",
   "version": "3.9.12"
  },
  "orig_nbformat": 4,
  "vscode": {
   "interpreter": {
    "hash": "c724bc3f135805c4c170df382af3b9336006544e74d244f6cd33011fbb11e1c6"
   }
  }
 },
 "nbformat": 4,
 "nbformat_minor": 2
}
